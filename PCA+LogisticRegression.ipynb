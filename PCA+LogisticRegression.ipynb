{
 "cells": [
  {
   "cell_type": "code",
   "execution_count": 1,
   "metadata": {},
   "outputs": [],
   "source": [
    "import pandas as pd\n",
    "import numpy as np\n",
    "from scipy.stats import mstats\n",
    "from sklearn.linear_model import LogisticRegression\n",
    "from sklearn.model_selection import train_test_split\n",
    "import matplotlib.pyplot as plt\n",
    "from sklearn.preprocessing import StandardScaler\n",
    "from sklearn import metrics\n",
    "from sklearn.decomposition import PCA\n",
    "from sklearn.metrics import accuracy_score, classification_report"
   ]
  },
  {
   "cell_type": "code",
   "execution_count": 2,
   "metadata": {},
   "outputs": [],
   "source": [
    "# Getting the data from csv file to pandas dataframe\n",
    "df = pd.read_csv('heart.csv')"
   ]
  },
  {
   "cell_type": "markdown",
   "metadata": {},
   "source": [
    "<b>Check for missing values</b>"
   ]
  },
  {
   "cell_type": "code",
   "execution_count": 3,
   "metadata": {},
   "outputs": [
    {
     "name": "stdout",
     "output_type": "stream",
     "text": [
      "hr        0\n",
      "bp        0\n",
      "pkhr      0\n",
      "sbp       0\n",
      "mphr      0\n",
      "age       0\n",
      "baseef    0\n",
      "gender    0\n",
      "dtype: int64\n"
     ]
    }
   ],
   "source": [
    "# count the number of NaN values in each column\n",
    "print(df.isnull().sum())"
   ]
  },
  {
   "cell_type": "code",
   "execution_count": 4,
   "metadata": {},
   "outputs": [
    {
     "data": {
      "text/plain": [
       "False"
      ]
     },
     "execution_count": 4,
     "metadata": {},
     "output_type": "execute_result"
    }
   ],
   "source": [
    "df.isnull().values.any()"
   ]
  },
  {
   "cell_type": "code",
   "execution_count": 5,
   "metadata": {},
   "outputs": [
    {
     "data": {
      "text/html": [
       "<div>\n",
       "<style scoped>\n",
       "    .dataframe tbody tr th:only-of-type {\n",
       "        vertical-align: middle;\n",
       "    }\n",
       "\n",
       "    .dataframe tbody tr th {\n",
       "        vertical-align: top;\n",
       "    }\n",
       "\n",
       "    .dataframe thead th {\n",
       "        text-align: right;\n",
       "    }\n",
       "</style>\n",
       "<table border=\"1\" class=\"dataframe\">\n",
       "  <thead>\n",
       "    <tr style=\"text-align: right;\">\n",
       "      <th></th>\n",
       "      <th>hr</th>\n",
       "      <th>bp</th>\n",
       "      <th>pkhr</th>\n",
       "      <th>sbp</th>\n",
       "      <th>mphr</th>\n",
       "      <th>age</th>\n",
       "      <th>baseef</th>\n",
       "      <th>gender</th>\n",
       "    </tr>\n",
       "  </thead>\n",
       "  <tbody>\n",
       "    <tr>\n",
       "      <th>count</th>\n",
       "      <td>558.000000</td>\n",
       "      <td>558.000000</td>\n",
       "      <td>558.000000</td>\n",
       "      <td>558.000000</td>\n",
       "      <td>558.000000</td>\n",
       "      <td>558.000000</td>\n",
       "      <td>558.000000</td>\n",
       "      <td>558.000000</td>\n",
       "    </tr>\n",
       "    <tr>\n",
       "      <th>mean</th>\n",
       "      <td>75.290323</td>\n",
       "      <td>135.324373</td>\n",
       "      <td>120.550179</td>\n",
       "      <td>146.915771</td>\n",
       "      <td>78.569892</td>\n",
       "      <td>67.344086</td>\n",
       "      <td>55.603943</td>\n",
       "      <td>0.605735</td>\n",
       "    </tr>\n",
       "    <tr>\n",
       "      <th>std</th>\n",
       "      <td>15.415197</td>\n",
       "      <td>20.770106</td>\n",
       "      <td>22.567835</td>\n",
       "      <td>36.529544</td>\n",
       "      <td>15.121101</td>\n",
       "      <td>12.049415</td>\n",
       "      <td>10.321534</td>\n",
       "      <td>0.489131</td>\n",
       "    </tr>\n",
       "    <tr>\n",
       "      <th>min</th>\n",
       "      <td>42.000000</td>\n",
       "      <td>85.000000</td>\n",
       "      <td>52.000000</td>\n",
       "      <td>40.000000</td>\n",
       "      <td>38.000000</td>\n",
       "      <td>26.000000</td>\n",
       "      <td>20.000000</td>\n",
       "      <td>0.000000</td>\n",
       "    </tr>\n",
       "    <tr>\n",
       "      <th>25%</th>\n",
       "      <td>64.000000</td>\n",
       "      <td>120.000000</td>\n",
       "      <td>106.250000</td>\n",
       "      <td>120.000000</td>\n",
       "      <td>69.000000</td>\n",
       "      <td>60.000000</td>\n",
       "      <td>52.000000</td>\n",
       "      <td>0.000000</td>\n",
       "    </tr>\n",
       "    <tr>\n",
       "      <th>50%</th>\n",
       "      <td>74.000000</td>\n",
       "      <td>133.000000</td>\n",
       "      <td>122.000000</td>\n",
       "      <td>141.000000</td>\n",
       "      <td>78.000000</td>\n",
       "      <td>69.000000</td>\n",
       "      <td>57.000000</td>\n",
       "      <td>1.000000</td>\n",
       "    </tr>\n",
       "    <tr>\n",
       "      <th>75%</th>\n",
       "      <td>84.000000</td>\n",
       "      <td>150.000000</td>\n",
       "      <td>135.000000</td>\n",
       "      <td>170.000000</td>\n",
       "      <td>88.000000</td>\n",
       "      <td>75.000000</td>\n",
       "      <td>62.000000</td>\n",
       "      <td>1.000000</td>\n",
       "    </tr>\n",
       "    <tr>\n",
       "      <th>max</th>\n",
       "      <td>210.000000</td>\n",
       "      <td>203.000000</td>\n",
       "      <td>210.000000</td>\n",
       "      <td>309.000000</td>\n",
       "      <td>133.000000</td>\n",
       "      <td>93.000000</td>\n",
       "      <td>83.000000</td>\n",
       "      <td>1.000000</td>\n",
       "    </tr>\n",
       "  </tbody>\n",
       "</table>\n",
       "</div>"
      ],
      "text/plain": [
       "               hr          bp        pkhr         sbp        mphr         age  \\\n",
       "count  558.000000  558.000000  558.000000  558.000000  558.000000  558.000000   \n",
       "mean    75.290323  135.324373  120.550179  146.915771   78.569892   67.344086   \n",
       "std     15.415197   20.770106   22.567835   36.529544   15.121101   12.049415   \n",
       "min     42.000000   85.000000   52.000000   40.000000   38.000000   26.000000   \n",
       "25%     64.000000  120.000000  106.250000  120.000000   69.000000   60.000000   \n",
       "50%     74.000000  133.000000  122.000000  141.000000   78.000000   69.000000   \n",
       "75%     84.000000  150.000000  135.000000  170.000000   88.000000   75.000000   \n",
       "max    210.000000  203.000000  210.000000  309.000000  133.000000   93.000000   \n",
       "\n",
       "           baseef      gender  \n",
       "count  558.000000  558.000000  \n",
       "mean    55.603943    0.605735  \n",
       "std     10.321534    0.489131  \n",
       "min     20.000000    0.000000  \n",
       "25%     52.000000    0.000000  \n",
       "50%     57.000000    1.000000  \n",
       "75%     62.000000    1.000000  \n",
       "max     83.000000    1.000000  "
      ]
     },
     "execution_count": 5,
     "metadata": {},
     "output_type": "execute_result"
    }
   ],
   "source": [
    "df.describe()"
   ]
  },
  {
   "cell_type": "code",
   "execution_count": 6,
   "metadata": {},
   "outputs": [
    {
     "name": "stdout",
     "output_type": "stream",
     "text": [
      "Not normal distribution\n"
     ]
    }
   ],
   "source": [
    "z, pval = mstats.normaltest(df)\n",
    "\n",
    "#Using the confidence value as 95% \n",
    "if(pval.all() < 0.05):\n",
    "    print('Not normal distribution')\n",
    "else:\n",
    "    print('normal distribution')"
   ]
  },
  {
   "cell_type": "code",
   "execution_count": 7,
   "metadata": {},
   "outputs": [
    {
     "name": "stdout",
     "output_type": "stream",
     "text": [
      "   hr   bp  pkhr  sbp  mphr  age  baseef  gender\n",
      "0  92  103   114   86    74   85      27       0\n",
      "1  62  139   120  158    82   73      39       0\n",
      "2  62  139   120  157    82   73      39       0\n",
      "3  93  118   118  105    72   57      42       1\n",
      "4  89  103   129  173    69   34      45       0\n",
      "0    0\n",
      "1    0\n",
      "2    0\n",
      "3    1\n",
      "4    0\n",
      "Name: gender, dtype: int64\n",
      "   hr   bp  pkhr  sbp  mphr  age  baseef\n",
      "0  92  103   114   86    74   85      27\n",
      "1  62  139   120  158    82   73      39\n",
      "2  62  139   120  157    82   73      39\n",
      "3  93  118   118  105    72   57      42\n",
      "4  89  103   129  173    69   34      45\n"
     ]
    }
   ],
   "source": [
    "# Reading the target variable into y and removing it from original dataframe\n",
    "print(df.head(5))\n",
    "\n",
    "y = df['gender']\n",
    "del(df['gender'])\n",
    "\n",
    "print(y.head(5))\n",
    "print(df.head(5))"
   ]
  },
  {
   "cell_type": "code",
   "execution_count": 8,
   "metadata": {},
   "outputs": [
    {
     "name": "stderr",
     "output_type": "stream",
     "text": [
      "C:\\Users\\AnushaModwal\\Anaconda3\\lib\\site-packages\\sklearn\\preprocessing\\data.py:645: DataConversionWarning: Data with input dtype int64 were all converted to float64 by StandardScaler.\n",
      "  return self.partial_fit(X, y)\n"
     ]
    },
    {
     "data": {
      "text/plain": [
       "StandardScaler(copy=True, with_mean=True, with_std=True)"
      ]
     },
     "execution_count": 8,
     "metadata": {},
     "output_type": "execute_result"
    }
   ],
   "source": [
    "scalar = StandardScaler()\n",
    "scalar.fit(df)"
   ]
  },
  {
   "cell_type": "code",
   "execution_count": 9,
   "metadata": {},
   "outputs": [
    {
     "name": "stderr",
     "output_type": "stream",
     "text": [
      "C:\\Users\\AnushaModwal\\Anaconda3\\lib\\site-packages\\ipykernel_launcher.py:1: DataConversionWarning: Data with input dtype int64 were all converted to float64 by StandardScaler.\n",
      "  \"\"\"Entry point for launching an IPython kernel.\n"
     ]
    },
    {
     "data": {
      "text/plain": [
       "array([[ 1.08494689, -1.55768954, -0.29050445, ..., -0.30249072,\n",
       "         1.46660701, -2.77377457],\n",
       "       [-0.86293073,  0.17712598, -0.02440078, ...,  0.22704598,\n",
       "         0.46981442, -1.61011349],\n",
       "       [-0.86293073,  0.17712598, -0.02440078, ...,  0.22704598,\n",
       "         0.46981442, -1.61011349],\n",
       "       ...,\n",
       "       [ 0.17593733, -1.7022575 ,  0.10865105, ..., -0.17010655,\n",
       "        -0.27778001, -0.34948065],\n",
       "       [-1.05771849, -0.2565779 , -0.60095873, ..., -0.50106698,\n",
       "         0.22061628,  1.00812394],\n",
       "       [ 1.47452242,  0.2253153 ,  1.79397426, ...,  1.08754311,\n",
       "        -0.9423084 ,  0.81418043]])"
      ]
     },
     "execution_count": 9,
     "metadata": {},
     "output_type": "execute_result"
    }
   ],
   "source": [
    "scaled_data = scalar.transform(df)\n",
    "scaled_data"
   ]
  },
  {
   "cell_type": "code",
   "execution_count": 10,
   "metadata": {},
   "outputs": [
    {
     "name": "stdout",
     "output_type": "stream",
     "text": [
      "0.3246546654792435\n",
      "0.5191665730938422\n",
      "0.6876284497415968\n",
      "0.8352642177010621\n",
      "0.9286993074588749\n",
      "0.9941558675995965\n",
      "1.0000000000000002\n"
     ]
    }
   ],
   "source": [
    "for i in range(1, df.shape[1]+1):\n",
    "    pca = PCA(n_components=i)\n",
    "    pca.fit(scaled_data)\n",
    "    print(sum(pca.explained_variance_ratio_))"
   ]
  },
  {
   "cell_type": "markdown",
   "metadata": {},
   "source": [
    "Therefore after applying PCA we can see that one variable can be removed as rest are capturing approximately 99% of the variance. \n",
    "Hence we are considering 6 features for our analysis."
   ]
  },
  {
   "cell_type": "code",
   "execution_count": 11,
   "metadata": {},
   "outputs": [
    {
     "data": {
      "text/plain": [
       "PCA(copy=True, iterated_power='auto', n_components=6, random_state=None,\n",
       "  svd_solver='auto', tol=0.0, whiten=False)"
      ]
     },
     "execution_count": 11,
     "metadata": {},
     "output_type": "execute_result"
    }
   ],
   "source": [
    "pca = PCA(n_components = 6)\n",
    "pca.fit(scaled_data)"
   ]
  },
  {
   "cell_type": "code",
   "execution_count": 12,
   "metadata": {},
   "outputs": [],
   "source": [
    "x_pca = pca.transform(scaled_data)"
   ]
  },
  {
   "cell_type": "code",
   "execution_count": 13,
   "metadata": {},
   "outputs": [
    {
     "data": {
      "text/plain": [
       "(558, 7)"
      ]
     },
     "execution_count": 13,
     "metadata": {},
     "output_type": "execute_result"
    }
   ],
   "source": [
    "scaled_data.shape"
   ]
  },
  {
   "cell_type": "code",
   "execution_count": 14,
   "metadata": {},
   "outputs": [
    {
     "data": {
      "text/plain": [
       "(558, 6)"
      ]
     },
     "execution_count": 14,
     "metadata": {},
     "output_type": "execute_result"
    }
   ],
   "source": [
    "x_pca.shape"
   ]
  },
  {
   "cell_type": "code",
   "execution_count": 15,
   "metadata": {},
   "outputs": [],
   "source": [
    "X_train, X_test, y_train, y_test = train_test_split(x_pca, y, test_size = 0.2)"
   ]
  },
  {
   "cell_type": "code",
   "execution_count": 16,
   "metadata": {},
   "outputs": [
    {
     "name": "stderr",
     "output_type": "stream",
     "text": [
      "C:\\Users\\AnushaModwal\\Anaconda3\\lib\\site-packages\\sklearn\\linear_model\\logistic.py:433: FutureWarning: Default solver will be changed to 'lbfgs' in 0.22. Specify a solver to silence this warning.\n",
      "  FutureWarning)\n"
     ]
    },
    {
     "data": {
      "text/plain": [
       "LogisticRegression(C=1.0, class_weight=None, dual=False, fit_intercept=True,\n",
       "          intercept_scaling=1, max_iter=100, multi_class='warn',\n",
       "          n_jobs=None, penalty='l2', random_state=None, solver='warn',\n",
       "          tol=0.0001, verbose=0, warm_start=False)"
      ]
     },
     "execution_count": 16,
     "metadata": {},
     "output_type": "execute_result"
    }
   ],
   "source": [
    "logreg = LogisticRegression()\n",
    "logreg.fit(X_train, y_train)"
   ]
  },
  {
   "cell_type": "code",
   "execution_count": 17,
   "metadata": {},
   "outputs": [
    {
     "name": "stdout",
     "output_type": "stream",
     "text": [
      "0.5892857142857143\n",
      "              precision    recall  f1-score   support\n",
      "\n",
      "           0       0.50      0.26      0.34        46\n",
      "           1       0.61      0.82      0.70        66\n",
      "\n",
      "   micro avg       0.59      0.59      0.59       112\n",
      "   macro avg       0.56      0.54      0.52       112\n",
      "weighted avg       0.57      0.59      0.55       112\n",
      "\n"
     ]
    }
   ],
   "source": [
    "predicted = logreg.predict(X_test)\n",
    "print(metrics.accuracy_score(y_test, predicted)) \n",
    "print(classification_report(y_test, predicted))"
   ]
  }
 ],
 "metadata": {
  "kernelspec": {
   "display_name": "Python 3",
   "language": "python",
   "name": "python3"
  },
  "language_info": {
   "codemirror_mode": {
    "name": "ipython",
    "version": 3
   },
   "file_extension": ".py",
   "mimetype": "text/x-python",
   "name": "python",
   "nbconvert_exporter": "python",
   "pygments_lexer": "ipython3",
   "version": "3.7.3"
  }
 },
 "nbformat": 4,
 "nbformat_minor": 2
}
