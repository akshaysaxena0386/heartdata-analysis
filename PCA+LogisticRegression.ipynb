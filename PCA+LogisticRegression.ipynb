{
 "cells": [
  {
   "cell_type": "code",
   "execution_count": 1,
   "metadata": {},
   "outputs": [],
   "source": [
    "import pandas as pd\n",
    "import numpy as np\n",
    "from scipy.stats import mstats\n",
    "from sklearn.linear_model import LogisticRegression\n",
    "from sklearn.model_selection import train_test_split\n",
    "import matplotlib.pyplot as plt\n",
    "from sklearn.preprocessing import MinMaxScaler\n",
    "from sklearn import metrics\n",
    "from sklearn.decomposition import PCA\n",
    "from sklearn.metrics import accuracy_score, classification_report\n",
    "import warnings\n",
    "warnings.filterwarnings('ignore')"
   ]
  },
  {
   "cell_type": "code",
   "execution_count": 2,
   "metadata": {},
   "outputs": [],
   "source": [
    "# Getting the data from csv file to pandas dataframe\n",
    "df = pd.read_csv('heart.csv')"
   ]
  },
  {
   "cell_type": "markdown",
   "metadata": {},
   "source": [
    "<b>Check for missing values</b>"
   ]
  },
  {
   "cell_type": "code",
   "execution_count": 3,
   "metadata": {},
   "outputs": [
    {
     "name": "stdout",
     "output_type": "stream",
     "text": [
      "hr        0\n",
      "bp        0\n",
      "pkhr      0\n",
      "sbp       0\n",
      "mphr      0\n",
      "age       0\n",
      "baseef    0\n",
      "gender    0\n",
      "dtype: int64\n"
     ]
    }
   ],
   "source": [
    "# Count the number of NaN values in each column\n",
    "print(df.isnull().sum())"
   ]
  },
  {
   "cell_type": "code",
   "execution_count": 4,
   "metadata": {},
   "outputs": [
    {
     "data": {
      "text/plain": [
       "False"
      ]
     },
     "execution_count": 4,
     "metadata": {},
     "output_type": "execute_result"
    }
   ],
   "source": [
    "df.isnull().values.any()"
   ]
  },
  {
   "cell_type": "code",
   "execution_count": 5,
   "metadata": {},
   "outputs": [
    {
     "data": {
      "text/html": [
       "<div>\n",
       "<style scoped>\n",
       "    .dataframe tbody tr th:only-of-type {\n",
       "        vertical-align: middle;\n",
       "    }\n",
       "\n",
       "    .dataframe tbody tr th {\n",
       "        vertical-align: top;\n",
       "    }\n",
       "\n",
       "    .dataframe thead th {\n",
       "        text-align: right;\n",
       "    }\n",
       "</style>\n",
       "<table border=\"1\" class=\"dataframe\">\n",
       "  <thead>\n",
       "    <tr style=\"text-align: right;\">\n",
       "      <th></th>\n",
       "      <th>hr</th>\n",
       "      <th>bp</th>\n",
       "      <th>pkhr</th>\n",
       "      <th>sbp</th>\n",
       "      <th>mphr</th>\n",
       "      <th>age</th>\n",
       "      <th>baseef</th>\n",
       "      <th>gender</th>\n",
       "    </tr>\n",
       "  </thead>\n",
       "  <tbody>\n",
       "    <tr>\n",
       "      <th>count</th>\n",
       "      <td>558.000000</td>\n",
       "      <td>558.000000</td>\n",
       "      <td>558.000000</td>\n",
       "      <td>558.000000</td>\n",
       "      <td>558.000000</td>\n",
       "      <td>558.000000</td>\n",
       "      <td>558.000000</td>\n",
       "      <td>558.000000</td>\n",
       "    </tr>\n",
       "    <tr>\n",
       "      <th>mean</th>\n",
       "      <td>75.290323</td>\n",
       "      <td>135.324373</td>\n",
       "      <td>120.550179</td>\n",
       "      <td>146.915771</td>\n",
       "      <td>78.569892</td>\n",
       "      <td>67.344086</td>\n",
       "      <td>55.603943</td>\n",
       "      <td>0.605735</td>\n",
       "    </tr>\n",
       "    <tr>\n",
       "      <th>std</th>\n",
       "      <td>15.415197</td>\n",
       "      <td>20.770106</td>\n",
       "      <td>22.567835</td>\n",
       "      <td>36.529544</td>\n",
       "      <td>15.121101</td>\n",
       "      <td>12.049415</td>\n",
       "      <td>10.321534</td>\n",
       "      <td>0.489131</td>\n",
       "    </tr>\n",
       "    <tr>\n",
       "      <th>min</th>\n",
       "      <td>42.000000</td>\n",
       "      <td>85.000000</td>\n",
       "      <td>52.000000</td>\n",
       "      <td>40.000000</td>\n",
       "      <td>38.000000</td>\n",
       "      <td>26.000000</td>\n",
       "      <td>20.000000</td>\n",
       "      <td>0.000000</td>\n",
       "    </tr>\n",
       "    <tr>\n",
       "      <th>25%</th>\n",
       "      <td>64.000000</td>\n",
       "      <td>120.000000</td>\n",
       "      <td>106.250000</td>\n",
       "      <td>120.000000</td>\n",
       "      <td>69.000000</td>\n",
       "      <td>60.000000</td>\n",
       "      <td>52.000000</td>\n",
       "      <td>0.000000</td>\n",
       "    </tr>\n",
       "    <tr>\n",
       "      <th>50%</th>\n",
       "      <td>74.000000</td>\n",
       "      <td>133.000000</td>\n",
       "      <td>122.000000</td>\n",
       "      <td>141.000000</td>\n",
       "      <td>78.000000</td>\n",
       "      <td>69.000000</td>\n",
       "      <td>57.000000</td>\n",
       "      <td>1.000000</td>\n",
       "    </tr>\n",
       "    <tr>\n",
       "      <th>75%</th>\n",
       "      <td>84.000000</td>\n",
       "      <td>150.000000</td>\n",
       "      <td>135.000000</td>\n",
       "      <td>170.000000</td>\n",
       "      <td>88.000000</td>\n",
       "      <td>75.000000</td>\n",
       "      <td>62.000000</td>\n",
       "      <td>1.000000</td>\n",
       "    </tr>\n",
       "    <tr>\n",
       "      <th>max</th>\n",
       "      <td>210.000000</td>\n",
       "      <td>203.000000</td>\n",
       "      <td>210.000000</td>\n",
       "      <td>309.000000</td>\n",
       "      <td>133.000000</td>\n",
       "      <td>93.000000</td>\n",
       "      <td>83.000000</td>\n",
       "      <td>1.000000</td>\n",
       "    </tr>\n",
       "  </tbody>\n",
       "</table>\n",
       "</div>"
      ],
      "text/plain": [
       "               hr          bp        pkhr         sbp        mphr         age  \\\n",
       "count  558.000000  558.000000  558.000000  558.000000  558.000000  558.000000   \n",
       "mean    75.290323  135.324373  120.550179  146.915771   78.569892   67.344086   \n",
       "std     15.415197   20.770106   22.567835   36.529544   15.121101   12.049415   \n",
       "min     42.000000   85.000000   52.000000   40.000000   38.000000   26.000000   \n",
       "25%     64.000000  120.000000  106.250000  120.000000   69.000000   60.000000   \n",
       "50%     74.000000  133.000000  122.000000  141.000000   78.000000   69.000000   \n",
       "75%     84.000000  150.000000  135.000000  170.000000   88.000000   75.000000   \n",
       "max    210.000000  203.000000  210.000000  309.000000  133.000000   93.000000   \n",
       "\n",
       "           baseef      gender  \n",
       "count  558.000000  558.000000  \n",
       "mean    55.603943    0.605735  \n",
       "std     10.321534    0.489131  \n",
       "min     20.000000    0.000000  \n",
       "25%     52.000000    0.000000  \n",
       "50%     57.000000    1.000000  \n",
       "75%     62.000000    1.000000  \n",
       "max     83.000000    1.000000  "
      ]
     },
     "execution_count": 5,
     "metadata": {},
     "output_type": "execute_result"
    }
   ],
   "source": [
    "df.describe()"
   ]
  },
  {
   "cell_type": "code",
   "execution_count": 6,
   "metadata": {},
   "outputs": [
    {
     "name": "stdout",
     "output_type": "stream",
     "text": [
      "Not normal distribution\n"
     ]
    }
   ],
   "source": [
    "z, pval = mstats.normaltest(df)\n",
    "\n",
    "#Using the confidence value as 95% \n",
    "if(pval.all() < 0.05):\n",
    "    print('Not normal distribution')\n",
    "else:\n",
    "    print('normal distribution')"
   ]
  },
  {
   "cell_type": "code",
   "execution_count": 7,
   "metadata": {},
   "outputs": [
    {
     "name": "stdout",
     "output_type": "stream",
     "text": [
      "   hr   bp  pkhr  sbp  mphr  age  baseef  gender\n",
      "0  92  103   114   86    74   85      27       0\n",
      "1  62  139   120  158    82   73      39       0\n",
      "2  62  139   120  157    82   73      39       0\n",
      "3  93  118   118  105    72   57      42       1\n",
      "4  89  103   129  173    69   34      45       0\n",
      "0    0\n",
      "1    0\n",
      "2    0\n",
      "3    1\n",
      "4    0\n",
      "Name: gender, dtype: int64\n",
      "   hr   bp  pkhr  sbp  mphr  age  baseef\n",
      "0  92  103   114   86    74   85      27\n",
      "1  62  139   120  158    82   73      39\n",
      "2  62  139   120  157    82   73      39\n",
      "3  93  118   118  105    72   57      42\n",
      "4  89  103   129  173    69   34      45\n"
     ]
    }
   ],
   "source": [
    "# Reading the target variable into y and removing it from original dataframe\n",
    "print(df.head(5))\n",
    "\n",
    "y = df['gender']\n",
    "del(df['gender'])\n",
    "\n",
    "print(y.head(5))\n",
    "print(df.head(5))"
   ]
  },
  {
   "cell_type": "code",
   "execution_count": 8,
   "metadata": {},
   "outputs": [
    {
     "data": {
      "text/plain": [
       "MinMaxScaler(copy=True, feature_range=(0, 1))"
      ]
     },
     "execution_count": 8,
     "metadata": {},
     "output_type": "execute_result"
    }
   ],
   "source": [
    "scalar = MinMaxScaler()\n",
    "scalar.fit(df)"
   ]
  },
  {
   "cell_type": "code",
   "execution_count": 9,
   "metadata": {},
   "outputs": [
    {
     "data": {
      "text/plain": [
       "array([[0.29761905, 0.15254237, 0.39240506, ..., 0.37894737, 0.88059701,\n",
       "        0.11111111],\n",
       "       [0.11904762, 0.45762712, 0.43037975, ..., 0.46315789, 0.70149254,\n",
       "        0.3015873 ],\n",
       "       [0.11904762, 0.45762712, 0.43037975, ..., 0.46315789, 0.70149254,\n",
       "        0.3015873 ],\n",
       "       ...,\n",
       "       [0.21428571, 0.12711864, 0.44936709, ..., 0.4       , 0.56716418,\n",
       "        0.50793651],\n",
       "       [0.10119048, 0.38135593, 0.34810127, ..., 0.34736842, 0.65671642,\n",
       "        0.73015873],\n",
       "       [0.33333333, 0.46610169, 0.68987342, ..., 0.6       , 0.44776119,\n",
       "        0.6984127 ]])"
      ]
     },
     "execution_count": 9,
     "metadata": {},
     "output_type": "execute_result"
    }
   ],
   "source": [
    "scaled_data = scalar.transform(df)\n",
    "scaled_data"
   ]
  },
  {
   "cell_type": "code",
   "execution_count": 10,
   "metadata": {},
   "outputs": [
    {
     "name": "stdout",
     "output_type": "stream",
     "text": [
      "0.2902725482447443\n",
      "0.526595297177683\n",
      "0.714635228837625\n",
      "0.8805645115655093\n",
      "0.9617687348824142\n",
      "0.9941390902838548\n",
      "1.0\n"
     ]
    }
   ],
   "source": [
    "for i in range(1, df.shape[1]+1):\n",
    "    pca = PCA(n_components=i)\n",
    "    pca.fit(scaled_data)\n",
    "    print(sum(pca.explained_variance_ratio_))"
   ]
  },
  {
   "cell_type": "markdown",
   "metadata": {},
   "source": [
    "Therefore after applying PCA we can see that one variable can be removed as rest are capturing approximately 99% of the variance. \n",
    "Hence we are considering 6 features for our analysis."
   ]
  },
  {
   "cell_type": "code",
   "execution_count": 11,
   "metadata": {},
   "outputs": [
    {
     "data": {
      "text/plain": [
       "PCA(copy=True, iterated_power='auto', n_components=6, random_state=None,\n",
       "  svd_solver='auto', tol=0.0, whiten=False)"
      ]
     },
     "execution_count": 11,
     "metadata": {},
     "output_type": "execute_result"
    }
   ],
   "source": [
    "pca = PCA(n_components = 6)\n",
    "pca.fit(scaled_data)"
   ]
  },
  {
   "cell_type": "code",
   "execution_count": 12,
   "metadata": {},
   "outputs": [],
   "source": [
    "x_pca = pca.transform(scaled_data)"
   ]
  },
  {
   "cell_type": "code",
   "execution_count": 13,
   "metadata": {},
   "outputs": [
    {
     "data": {
      "text/plain": [
       "(558, 7)"
      ]
     },
     "execution_count": 13,
     "metadata": {},
     "output_type": "execute_result"
    }
   ],
   "source": [
    "scaled_data.shape"
   ]
  },
  {
   "cell_type": "code",
   "execution_count": 14,
   "metadata": {},
   "outputs": [
    {
     "data": {
      "text/plain": [
       "(558, 6)"
      ]
     },
     "execution_count": 14,
     "metadata": {},
     "output_type": "execute_result"
    }
   ],
   "source": [
    "x_pca.shape"
   ]
  },
  {
   "cell_type": "code",
   "execution_count": 15,
   "metadata": {},
   "outputs": [],
   "source": [
    "X_train, X_test, y_train, y_test = train_test_split(x_pca, y, test_size = 0.1, random_state = 123)"
   ]
  },
  {
   "cell_type": "code",
   "execution_count": 16,
   "metadata": {},
   "outputs": [
    {
     "data": {
      "text/plain": [
       "LogisticRegression(C=1.0, class_weight=None, dual=False, fit_intercept=True,\n",
       "          intercept_scaling=1, max_iter=100, multi_class='warn',\n",
       "          n_jobs=None, penalty='l2', random_state=None, solver='warn',\n",
       "          tol=0.0001, verbose=0, warm_start=False)"
      ]
     },
     "execution_count": 16,
     "metadata": {},
     "output_type": "execute_result"
    }
   ],
   "source": [
    "logreg = LogisticRegression()\n",
    "logreg.fit(X_train, y_train)"
   ]
  },
  {
   "cell_type": "code",
   "execution_count": 17,
   "metadata": {},
   "outputs": [
    {
     "name": "stdout",
     "output_type": "stream",
     "text": [
      "0.6071428571428571\n",
      "              precision    recall  f1-score   support\n",
      "\n",
      "           0       0.50      0.18      0.27        22\n",
      "           1       0.62      0.88      0.73        34\n",
      "\n",
      "   micro avg       0.61      0.61      0.61        56\n",
      "   macro avg       0.56      0.53      0.50        56\n",
      "weighted avg       0.58      0.61      0.55        56\n",
      "\n"
     ]
    }
   ],
   "source": [
    "predicted = logreg.predict(X_test)\n",
    "print(metrics.accuracy_score(y_test, predicted)) \n",
    "print(classification_report(y_test, predicted))"
   ]
  },
  {
   "cell_type": "code",
   "execution_count": null,
   "metadata": {},
   "outputs": [],
   "source": []
  }
 ],
 "metadata": {
  "kernelspec": {
   "display_name": "Python 3",
   "language": "python",
   "name": "python3"
  },
  "language_info": {
   "codemirror_mode": {
    "name": "ipython",
    "version": 3
   },
   "file_extension": ".py",
   "mimetype": "text/x-python",
   "name": "python",
   "nbconvert_exporter": "python",
   "pygments_lexer": "ipython3",
   "version": "3.7.3"
  }
 },
 "nbformat": 4,
 "nbformat_minor": 2
}
